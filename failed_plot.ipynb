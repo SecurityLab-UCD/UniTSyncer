{
 "cells": [
  {
   "cell_type": "code",
   "execution_count": 1,
   "metadata": {},
   "outputs": [],
   "source": [
    "import numpy as np\n",
    "import matplotlib.pyplot as plt\n",
    "import os\n",
    "from os.path import abspath\n",
    "import subprocess\n",
    "from frontend.rust.collect_fuzz import get_target_list"
   ]
  },
  {
   "cell_type": "code",
   "execution_count": 2,
   "metadata": {},
   "outputs": [
    {
     "data": {
      "text/plain": [
       "40"
      ]
     },
     "execution_count": 2,
     "metadata": {},
     "output_type": "execute_result"
    }
   ],
   "source": [
    "with open(\"failed_repos.txt\", \"r\") as f:\n",
    "    failed_repos = f.read().splitlines()\n",
    "\n",
    "repos = []\n",
    "for repo_path in failed_repos:\n",
    "    subdirectories = [\n",
    "        os.path.join(repo_path, d)\n",
    "        for d in os.listdir(repo_path)\n",
    "        if os.path.isdir(os.path.join(repo_path, d))\n",
    "    ]\n",
    "    repos.append(abspath(subdirectories[0]))\n",
    "\n",
    "len(repos)"
   ]
  },
  {
   "cell_type": "code",
   "execution_count": 3,
   "metadata": {},
   "outputs": [
    {
     "data": {
      "text/plain": [
       "'/home/yfhe/UniTSyncer/data/rust_repos/orlp-glidesort/orlp-glidesort-c4df951'"
      ]
     },
     "execution_count": 3,
     "metadata": {},
     "output_type": "execute_result"
    }
   ],
   "source": [
    "repos[0]"
   ]
  },
  {
   "cell_type": "code",
   "execution_count": 4,
   "metadata": {},
   "outputs": [],
   "source": [
    "\n",
    "def check_fuzz_targets(repo_path):\n",
    "    try:\n",
    "        p = subprocess.run(\n",
    "            [\"cargo\", \"fuzz\", \"list\"],\n",
    "            cwd=repo_path,\n",
    "            stderr=subprocess.DEVNULL,\n",
    "            stdout=subprocess.PIPE,\n",
    "            check=True,\n",
    "        )\n",
    "    except subprocess.CalledProcessError as e:\n",
    "        return \"list failed\"\n",
    "\n",
    "    targets = p.stdout.decode(\"utf-8\").splitlines()\n",
    "    print(targets)\n",
    "    if len(targets) == 0:\n",
    "        return \"no\"\n",
    "    if len(targets) == 1 and targets[0] == \"fuzz_target_1\":\n",
    "        return \"empty\"\n",
    "    return None\n",
    "\n",
    "\n",
    "def get_reason(repo_path):\n",
    "    try:\n",
    "        subprocess.run(\n",
    "            [\"cargo\", \"fuzz\", \"build\"],\n",
    "            cwd=repo_path,\n",
    "            stderr=subprocess.PIPE,\n",
    "            stdout=subprocess.PIPE,\n",
    "            check=True,\n",
    "        )\n",
    "    except subprocess.CalledProcessError as e:\n",
    "        stderr = e.stderr.decode(\"utf-8\")\n",
    "        if \"data\" in stderr:\n",
    "            return \"build failed due to data\"\n",
    "        else:\n",
    "            return \"cannot compile\"\n",
    "\n",
    "    return check_fuzz_targets(repo_path)"
   ]
  },
  {
   "cell_type": "code",
   "execution_count": 5,
   "metadata": {},
   "outputs": [
    {
     "name": "stdout",
     "output_type": "stream",
     "text": [
      "['parse_token_stream']\n",
      "['ether', 'gre', 'ipv4', 'tcp', 'udp', 'vlan']\n"
     ]
    }
   ],
   "source": [
    "reasons = [str(get_reason(repo)) for repo in repos]"
   ]
  },
  {
   "cell_type": "code",
   "execution_count": 6,
   "metadata": {},
   "outputs": [
    {
     "data": {
      "text/plain": [
       "40"
      ]
     },
     "execution_count": 6,
     "metadata": {},
     "output_type": "execute_result"
    }
   ],
   "source": [
    "len(reasons)"
   ]
  },
  {
   "cell_type": "code",
   "execution_count": 7,
   "metadata": {},
   "outputs": [
    {
     "data": {
      "text/plain": [
       "<BarContainer object of 3 artists>"
      ]
     },
     "execution_count": 7,
     "metadata": {},
     "output_type": "execute_result"
    },
    {
     "data": {
      "image/png": "[encoded data removed]",
      "text/plain": [
       "<Figure size 640x480 with 1 Axes>"
      ]
     },
     "metadata": {},
     "output_type": "display_data"
    }
   ],
   "source": [
    "unique_reasons = list( set(reasons))\n",
    "counts = [reasons.count(reason) for reason in unique_reasons]\n",
    "plt.yticks(list(range(max(counts)+1)))\n",
    "plt.ylabel(\"Number of Repos\")\n",
    "plt.xlabel(\"Reasons\")\n",
    "plt.bar(unique_reasons, counts)"
   ]
  },
  {
   "cell_type": "code",
   "execution_count": 8,
   "metadata": {},
   "outputs": [
    {
     "data": {
      "text/plain": [
       "[19, 19, 2]"
      ]
     },
     "execution_count": 8,
     "metadata": {},
     "output_type": "execute_result"
    }
   ],
   "source": [
    "counts"
   ]
  }
 ],
 "metadata": {
  "kernelspec": {
   "display_name": "Python 3",
   "language": "python",
   "name": "python3"
  },
  "language_info": {
   "codemirror_mode": {
    "name": "ipython",
    "version": 3
   },
   "file_extension": ".py",
   "mimetype": "text/x-python",
   "name": "python",
   "nbconvert_exporter": "python",
   "pygments_lexer": "ipython3",
   "version": "3.10.12"
  }
 },
 "nbformat": 4,
 "nbformat_minor": 2
}
